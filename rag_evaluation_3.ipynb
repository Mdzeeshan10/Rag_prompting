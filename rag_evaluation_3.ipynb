{
 "cells": [
  {
   "cell_type": "code",
   "execution_count": 9,
   "metadata": {},
   "outputs": [],
   "source": [
    "import os\n",
    "from langchain_openai import AzureChatOpenAI\n",
    "from langchain_openai import AzureOpenAIEmbeddings\n",
    "from langchain_community.vectorstores.azuresearch import (\n",
    "                                                        AzureSearch,\n",
    "                                                        AzureSearchVectorStoreRetriever\n",
    "                                                        )\n",
    "from ragas.llms import LangchainLLM\n",
    "from ragas import evaluate\n",
    "from ragas.metrics.critique import harmfulness\n",
    "from datasets import load_dataset\n",
    "import PyPDF2\n",
    "from langchain.document_loaders import DirectoryLoader\n",
    "from langchain.document_loaders import TextLoader\n",
    "from langchain.text_splitter import TokenTextSplitter"
   ]
  },
  {
   "cell_type": "code",
   "execution_count": 2,
   "metadata": {},
   "outputs": [],
   "source": [
    "os.environ[\"OPENAI_API_TYPE\"] = \"azure\"\n",
    "os.environ[\"OPENAI_API_VERSION\"] = \"2023-07-01-preview\"\n",
    "os.environ[\"azure_endpoint\"] = \"https://ai-dev-openai-fts.openai.azure.com/\"\n",
    "os.environ[\"OPENAI_API_KEY\"] = \"7439c61b0745446dbbb029521f498265\""
   ]
  },
  {
   "cell_type": "code",
   "execution_count": 3,
   "metadata": {},
   "outputs": [],
   "source": [
    "azure_model = AzureChatOpenAI(\n",
    "    openai_api_key = \"7439c61b0745446dbbb029521f498265\",\n",
    "    azure_endpoint = \"https://ai-dev-openai-fts.openai.azure.com/\",\n",
    "    openai_api_version = \"2023-07-01-preview\",\n",
    "    openai_organization = \"azure\",\n",
    "    temperature=0,    \n",
    "    deployment_name=\"gpt35\")"
   ]
  },
  {
   "cell_type": "code",
   "execution_count": 4,
   "metadata": {},
   "outputs": [],
   "source": [
    "azure_embeddings = AzureOpenAIEmbeddings(\n",
    "            openai_api_key = \"7439c61b0745446dbbb029521f498265\",\n",
    "            azure_endpoint = \"https://ai-dev-openai-fts.openai.azure.com/\",\n",
    "            openai_api_type = \"azure\",\n",
    "            openai_api_version = \"2023-07-01-preview\",\n",
    "            deployment=\"text-embedding-ada-002\", \n",
    "            chunk_size=1\n",
    "                                )"
   ]
  },
  {
   "cell_type": "code",
   "execution_count": 6,
   "metadata": {},
   "outputs": [],
   "source": [
    "def convert_pdf_to_txt(pdf_path, txt_path):\n",
    "    try:\n",
    "        with open(pdf_path, 'rb') as pdf_file:\n",
    "            pdf_reader = PyPDF2.PdfReader(pdf_file)\n",
    "            text = ''\n",
    "            for page in pdf_reader.pages:\n",
    "                text += page.extract_text()\n",
    "            \n",
    "            with open(txt_path, 'w', encoding='utf-8') as txt_file:\n",
    "                txt_file.write(text)\n",
    "            print(f\"PDF '{pdf_path}' converted to TXT successfully!\")\n",
    "    except Exception as e:\n",
    "        print(f\"Error converting '{pdf_path}':\", e)\n",
    "\n",
    "def batch_convert_pdfs(input_folder, output_folder):\n",
    "    if not os.path.exists(output_folder):\n",
    "        os.makedirs(output_folder)\n",
    "    \n",
    "    for pdf_file in os.listdir(input_folder):\n",
    "        if pdf_file.endswith('.pdf'):\n",
    "            pdf_path = os.path.join(input_folder, pdf_file)\n",
    "            txt_filename = os.path.splitext(pdf_file)[0] + '.txt'\n",
    "            txt_path = os.path.join(output_folder, txt_filename)\n",
    "            convert_pdf_to_txt(pdf_path, txt_path)"
   ]
  },
  {
   "cell_type": "code",
   "execution_count": 7,
   "metadata": {},
   "outputs": [
    {
     "name": "stdout",
     "output_type": "stream",
     "text": [
      "PDF 'C:\\Users\\achauha2\\Downloads\\policy_pdf\\Leave and Holiday Policy .pdf' converted to TXT successfully!\n",
      "PDF 'C:\\Users\\achauha2\\Downloads\\policy_pdf\\Medical Insurance Policy.pdf' converted to TXT successfully!\n",
      "PDF 'C:\\Users\\achauha2\\Downloads\\policy_pdf\\Mobile Phone Reimbursement Policy.pdf' converted to TXT successfully!\n",
      "PDF 'C:\\Users\\achauha2\\Downloads\\policy_pdf\\Performance Appraisal.pdf' converted to TXT successfully!\n",
      "PDF 'C:\\Users\\achauha2\\Downloads\\policy_pdf\\PREVENTION OF SEXUAL HARASSMENT.pdf' converted to TXT successfully!\n",
      "PDF 'C:\\Users\\achauha2\\Downloads\\policy_pdf\\Promotion Policy.pdf' converted to TXT successfully!\n"
     ]
    }
   ],
   "source": [
    "# Replace 'input_folder' with the folder containing your PDF files\n",
    "input_folder = r'C:\\Users\\achauha2\\Downloads\\policy_pdf'\n",
    "\n",
    "# Replace 'output_folder' with the desired folder for the output TXT files\n",
    "output_folder = r'C:\\Users\\achauha2\\Downloads\\policy_txt'\n",
    "\n",
    "batch_convert_pdfs(input_folder, output_folder)"
   ]
  },
  {
   "cell_type": "code",
   "execution_count": 8,
   "metadata": {},
   "outputs": [],
   "source": [
    "acs = AzureSearch(azure_search_endpoint=\"https://ai-dev-ss-fts.search.windows.net\",\n",
    "                 azure_search_key=\"ICyDmM0S3sWaLpYwNGPfUOz7jblRyOHnE6p7uDHPRRAzSeAaLBFM\",\n",
    "                 index_name=\"hanu-policy-docs\",\n",
    "                 embedding_function= azure_embeddings.embed_query\n",
    "                 )"
   ]
  },
  {
   "cell_type": "code",
   "execution_count": 11,
   "metadata": {},
   "outputs": [
    {
     "data": {
      "text/plain": [
       "['OTBhZjY3YjgtZjY3ZC00NGFiLTk1N2ItYzQ1OTYwNGU5YjQ2',\n",
       " 'MDA3NjJlODctNmJhNC00ODE0LTg0MzMtMmI5Mzk1MTcxNjM2',\n",
       " 'MmUxNjUwYzctMWRlNy00MmEwLTk0MGYtMDVjYTY1ODA3NWFi',\n",
       " 'NDJlZWQ3YzgtZjZhOC00NDFlLWIyMjgtYTlhMDBkYjczOTVi',\n",
       " 'OTQ0YWQwZWMtZTc0ZC00OTgxLTk1YjUtYzhjMWNmMTAzMTBl',\n",
       " 'MzYxOTZjYTYtYjNmNi00MTQ5LThlMjQtMDg0YTlmZjQ0ZWE5',\n",
       " 'MmI4NzE1OWQtZmEzOC00MzA2LTgyNWQtMTlhMjI5YjI0M2Mw',\n",
       " 'MjA5ZDhjNDktYTM0YS00YzI4LTlhNzAtMTgzYTNjM2VlYmVm',\n",
       " 'MzdkNTE4MmQtOWY2MS00YjRhLTk1MjYtZmVhODNiZjU5MTEz',\n",
       " 'ZWZkMTExM2QtNzQxYS00ZGNlLWEwMGUtYTYzZmU1OTg5M2E5',\n",
       " 'M2M1N2QwOTItOTY2Ni00NzQzLTk0NTAtYzFhOGMxNmMxZmJm',\n",
       " 'ZWY3OWQ2NTEtNGNiNi00NGFkLWEzNmItY2U2MWJjZjM5MDM5',\n",
       " 'ZTVhZWQzMTQtMzAxYS00MzEzLTg1MDMtNjY2N2QyZWY1Nzkz',\n",
       " 'MGIyNTZlMTYtMGYyMC00ZTY5LThlMzctYjliZDliOTg1Mjhi',\n",
       " 'NDY4MTFiNjgtYThhMS00Y2Y1LWEzNzctYzU2YzViZjk1MjEx',\n",
       " 'M2I0ZTUwZWItODQ4NS00MWM2LTkzZTMtZjFhZWVkYTEwY2Y5',\n",
       " 'NDEwMWJlMjktM2UwNi00ODFiLTgzMzItYWZiYWEyYjM4NDEw',\n",
       " 'NmY1Mzk2ZDItMjVjOC00NzJjLTk1NGQtNDI2OWZiYTNiOGQ3',\n",
       " 'ZTI0YjkzYjYtMDhlMS00N2Y4LTg5MWUtNGMzMTk4MjU3Yjg5',\n",
       " 'YTdkODNiMTktMGQzNi00OTFlLWE4OGYtZDNkODQxM2E2NDVh',\n",
       " 'NzVjMTkyZWEtZGZkMS00ZWU4LTg2YzktNDUwNWQ2Njg0YjRi',\n",
       " 'NWJiMTUyMzAtMzdmMi00NzI3LWJmMmYtNmZjYzliZTAxMWZi',\n",
       " 'ODA1MWNhNDItY2QwMy00ODgxLTk4MTgtZTYzMTQxZDcxZmFj',\n",
       " 'ZWU1NjYwYzQtNWM5NC00YmU0LWFlMTktMTM5NWYzYWRlOWE1',\n",
       " 'ZGQ4MTA2ZWEtYzExMS00YzQzLWFhMjQtNmEyNGYxYjhiOWRl',\n",
       " 'ODRlYmM1YzItMTU3MS00NDY3LWE5ZjYtOGJiZDY3ZWM3YWVj',\n",
       " 'ZDYwYTRmM2QtOTA3OS00MGZjLTliY2MtMDk4NTllNTQwYjhh',\n",
       " 'ZjQzZjEyOWEtMWE1My00NDNkLTk2Y2ItZjg0OGM1OWQ0MjJh',\n",
       " 'MmMyMzJhOTgtNDg0Ny00ZmMyLThhNWQtMTg2M2JhMTVhY2Ex',\n",
       " 'YjY5N2YzYTYtMmM0OS00YmNkLWFkNTYtOTI1ZTQ1YTE3YzRj',\n",
       " 'OTQ3MDk2MGEtOWFjZi00NTNhLTg4YjItZmUwMTI1NjQxMDU3',\n",
       " 'NTRkYjgzOTktNTNiYi00NTE1LWFiYmYtMjIwMWVlYjIyNWQ3',\n",
       " 'MmNiNDgxOWMtYTM2Yy00MmY1LWFlMDEtMWM4NGJhNjg5Nzgw',\n",
       " 'NGRjY2IxY2QtNjIwYy00NWIxLTkxMjYtNTViZDA5YzQ4NWRj',\n",
       " 'MzE3ZWE1ZWUtMjRkYy00ODc3LTljOTAtZmM2N2UzNTJhMDc1',\n",
       " 'N2JjMzI4NTYtNTRiMy00MmY5LWJlOGYtN2Y0OWJhNDE2MzU0',\n",
       " 'ZDcxNDRiNzctNWFmOS00NjZjLWExOTgtOWUxNTExMDBhNDI0',\n",
       " 'OTNkZDM1OTktN2U0MS00MzhlLWFiZTMtNmMyNzBmYWNjODI3',\n",
       " 'OGQxNDI2MmMtODZlYS00M2ExLThjYTEtNjBjYTA0ZjI1M2Qz',\n",
       " 'NWJlNTlhNjEtYmYyMS00MGJmLWIyMTYtYjFiYzllNjJiYjYx',\n",
       " 'OWY4YWEzNjktZjg0NC00MzI1LTgwYjMtNWRmOWFjOTE5MGRj',\n",
       " 'MWM3MzljODMtZjgxYy00MmY5LTg0M2YtZjU1NmY1MjkyMTUw',\n",
       " 'YmM5OTExMjAtNDA4OC00NjAwLTk4NDEtYmRhODEwMjFmZmM5',\n",
       " 'ZTcxMzlmN2QtNTgyZS00ZTZjLWE5MTAtNjQzNTIzYzEwMmQ2',\n",
       " 'YWFiMTlhMWMtMGJlYy00NTRlLTllNWYtNjNhNjA4MzYyY2E5',\n",
       " 'YWI0MGI3ZWQtMzliMC00OWNjLTllNDEtYThiZjA0MGZiNjM4',\n",
       " 'ZTczMzE0MzQtMTAyZC00MjhiLThmZGUtOTE2ZTVhMTdjOTli',\n",
       " 'ZTZlMDk3ZmEtNDJkNS00ZDY4LWIwNDgtMjE1ZmQzY2E3ODdm',\n",
       " 'MWI0YjM5YWYtNTU0My00NzBhLWEwYWItNjg0OTc0OTBlODVh',\n",
       " 'NGJhZjg4OWQtOTQwMy00NGRmLTljMzItNGZiZWNhMWVlYzU2',\n",
       " 'ZmJiYzkxZWYtZTE2Zi00OGE2LTgzYmMtNzJlOWE4NDQyY2Y4',\n",
       " 'YWM0Y2VhMzEtNWQyYi00MWI2LTk2Y2YtODlkZTY2ZGQ0MDll',\n",
       " 'MjMzYTk5ZTQtMTliOC00ZWNkLWFlMWMtYTM3ZWM3ZTM4ZWE4',\n",
       " 'MDIxMGI5NjEtNDFjMi00YzVlLWFiMjQtODVmOWZkZjRjNGMx',\n",
       " 'OTc4OTU0ZTAtNGVkOS00NGI4LThiZDctY2U1NDUzZGQ1ODY4',\n",
       " 'NGY5MWU4NmYtYjE5OC00NjdlLTlkZjItY2NiN2RhODY4MDZl',\n",
       " 'NTA3YzkwNmItOWYwOS00YzVmLWJlMmUtNTExNzNmZjNjOTkz',\n",
       " 'MGM4Y2U2MGUtZmIzMy00ZTVhLWJjN2MtZjE4NzU1ODg5Mzk5',\n",
       " 'ZjIxNjllZjQtN2M1YS00ZGZmLWEwZDgtMDUxNGQzNTdhNTA0',\n",
       " 'YTJlNDc4NDMtZmNlNS00MDg4LTk1ZmItZmUwNzY2NjBlNDk4',\n",
       " 'NThkZmZiN2MtZDY0NC00OWZiLWI5NzQtYjlmNTE5YTM1OGJk']"
      ]
     },
     "execution_count": 11,
     "metadata": {},
     "output_type": "execute_result"
    }
   ],
   "source": [
    "loader = DirectoryLoader(r'C:\\Users\\achauha2\\Downloads\\test-txt', glob=\"*.txt\", loader_cls=TextLoader, loader_kwargs={'autodetect_encoding': True})\n",
    "\n",
    "documents = loader.load()\n",
    "text_splitter = TokenTextSplitter(chunk_size=500, chunk_overlap=50)\n",
    "chunks = text_splitter.split_documents(documents)\n",
    "\n",
    "# Add documents to Azure Search\n",
    "acs.add_documents(documents=chunks)"
   ]
  },
  {
   "cell_type": "code",
   "execution_count": 12,
   "metadata": {},
   "outputs": [],
   "source": [
    "retriever = acs.as_retriever(search_kwargs={\"k\": 3})"
   ]
  },
  {
   "cell_type": "code",
   "execution_count": 13,
   "metadata": {},
   "outputs": [
    {
     "name": "stdout",
     "output_type": "stream",
     "text": [
      "input_variables=['context', 'question'] template='As an assistant, your role is to assist company employees with their \\npolicy plan inquiries and questions about the employee handbook. Your responses \\nshould be concise and based solely on the facts provided in the sources listed below.\\nIf the information provided is insufficient, state that you don’t know. \\nAvoid generating answers that do not utilize the sources below. If a clarifying \\nquestion to the user would be helpful, feel free to ask.\\n\\nQuestion: {question} \\nContext: {context} \\nAnswer:\\n'\n"
     ]
    }
   ],
   "source": [
    "from langchain import PromptTemplate\n",
    "\n",
    "template = \"\"\"As an assistant, your role is to assist company employees with their \n",
    "policy plan inquiries and questions about the employee handbook. Your responses \n",
    "should be concise and based solely on the facts provided in the sources listed below.\n",
    "If the information provided is insufficient, state that you don’t know. \n",
    "Avoid generating answers that do not utilize the sources below. If a clarifying \n",
    "question to the user would be helpful, feel free to ask.\n",
    "\n",
    "Question: {question} \n",
    "Context: {context} \n",
    "Answer:\n",
    "\"\"\"\n",
    "\n",
    "prompt = PromptTemplate(\n",
    "    template=template, \n",
    "    input_variables=[\"context\",\"question\"]\n",
    "  )\n",
    "\n",
    "print(prompt)"
   ]
  },
  {
   "cell_type": "code",
   "execution_count": 14,
   "metadata": {},
   "outputs": [],
   "source": [
    "from langchain.schema.runnable import RunnablePassthrough\n",
    "from langchain.schema.output_parser import StrOutputParser\n",
    "\n",
    "rag_chain = (\n",
    "    {\"context\": retriever,  \"question\": RunnablePassthrough()} \n",
    "    | prompt \n",
    "    | azure_model\n",
    "    | StrOutputParser() \n",
    ")"
   ]
  },
  {
   "cell_type": "code",
   "execution_count": 15,
   "metadata": {},
   "outputs": [],
   "source": [
    "# Ragas wants ['question', 'answer', 'contexts', 'ground_truths'] as\n",
    "'''\n",
    "{\n",
    "    \"question\": [], <-- question from faq doc\n",
    "    \"answer\": [], <-- answer from generated result\n",
    "    \"contexts\": [], <-- context\n",
    "    \"ground_truths\": [] <-- actual answer\n",
    "}\n",
    "'''\n",
    "\n",
    "from datasets import Dataset\n",
    "\n",
    "questions = [\"How many Casual leaves can be taken in a year under Hanu Leave Policy ?\", \n",
    "             \"What is the Performance Appraisal Policy at Hanu ?\",\n",
    "             \"What is the total reimbursement amount for both mobile+internet for rockstars at Hanu?\",\n",
    "            ]\n",
    "ground_truths = [[\"10\"],\n",
    "                [\"Hanu Software Solutions India Pvt. Ltd. has a Performance Appraisal Policy that defines the guidelines and due processes for Rockstars (employees) to undergo performance evaluation and appraisal. The Performance Appraisal Cycle spreads from January to December, and it consists of Rockstars' reviews of goals and a salary revision exercise. Reviews are done quarterly, and salary revision is taken once a year. The policy covers all Rockstars of Hanu Software Solutions India across different departments and Pan India geographies.\"],\n",
    "                [\"800 rupees.\"]]\n",
    "answers = []\n",
    "contexts = []\n",
    "\n",
    "# Inference\n",
    "for query in questions:\n",
    "    answers.append(rag_chain.invoke(query))\n",
    "    contexts.append([docs.page_content for docs in retriever.get_relevant_documents(query)])\n",
    "\n",
    "# To dict\n",
    "data = {\n",
    "    \"question\": questions,\n",
    "    \"answer\": answers,\n",
    "    \"contexts\": contexts,\n",
    "    \"ground_truths\": ground_truths\n",
    "}\n",
    "\n",
    "# Convert dict to dataset\n",
    "dataset = Dataset.from_dict(data)"
   ]
  },
  {
   "cell_type": "code",
   "execution_count": 16,
   "metadata": {},
   "outputs": [
    {
     "data": {
      "text/plain": [
       "Dataset({\n",
       "    features: ['question', 'answer', 'contexts', 'ground_truths'],\n",
       "    num_rows: 3\n",
       "})"
      ]
     },
     "execution_count": 16,
     "metadata": {},
     "output_type": "execute_result"
    }
   ],
   "source": [
    "dataset"
   ]
  },
  {
   "cell_type": "code",
   "execution_count": 17,
   "metadata": {},
   "outputs": [],
   "source": [
    "from ragas.metrics import (\n",
    "    context_precision,\n",
    "    answer_relevancy,\n",
    "    faithfulness,\n",
    "    context_recall,\n",
    ")\n",
    "from ragas.metrics.critique import harmfulness\n",
    "\n",
    "# list of metrics we're going to use\n",
    "metrics = [\n",
    "    faithfulness,\n",
    "    answer_relevancy,\n",
    "    context_recall,\n",
    "    context_precision,\n",
    "    harmfulness,\n",
    "]"
   ]
  },
  {
   "cell_type": "code",
   "execution_count": 18,
   "metadata": {},
   "outputs": [],
   "source": [
    "# wrapper around azure_model\n",
    "ragas_azure_model = LangchainLLM(azure_model)\n",
    "# patch the new RagasLLM instance\n",
    "answer_relevancy.llm = ragas_azure_model"
   ]
  },
  {
   "cell_type": "code",
   "execution_count": 19,
   "metadata": {},
   "outputs": [],
   "source": [
    "# embeddings can be used as it is\n",
    "answer_relevancy.embeddings = azure_embeddings"
   ]
  },
  {
   "cell_type": "code",
   "execution_count": 20,
   "metadata": {},
   "outputs": [],
   "source": [
    "for m in metrics:\n",
    "    m.__setattr__(\"llm\", ragas_azure_model)"
   ]
  },
  {
   "cell_type": "code",
   "execution_count": 21,
   "metadata": {},
   "outputs": [
    {
     "name": "stdout",
     "output_type": "stream",
     "text": [
      "evaluating with [faithfulness]\n"
     ]
    },
    {
     "name": "stderr",
     "output_type": "stream",
     "text": [
      "100%|██████████| 1/1 [00:04<00:00,  4.79s/it]\n"
     ]
    },
    {
     "name": "stdout",
     "output_type": "stream",
     "text": [
      "evaluating with [answer_relevancy]\n"
     ]
    },
    {
     "name": "stderr",
     "output_type": "stream",
     "text": [
      "100%|██████████| 1/1 [00:07<00:00,  7.20s/it]\n"
     ]
    },
    {
     "name": "stdout",
     "output_type": "stream",
     "text": [
      "evaluating with [context_recall]\n"
     ]
    },
    {
     "name": "stderr",
     "output_type": "stream",
     "text": [
      "100%|██████████| 1/1 [00:02<00:00,  2.19s/it]\n"
     ]
    },
    {
     "name": "stdout",
     "output_type": "stream",
     "text": [
      "evaluating with [context_precision]\n"
     ]
    },
    {
     "name": "stderr",
     "output_type": "stream",
     "text": [
      "100%|██████████| 1/1 [00:01<00:00,  1.79s/it]\n"
     ]
    },
    {
     "name": "stdout",
     "output_type": "stream",
     "text": [
      "evaluating with [harmfulness]\n"
     ]
    },
    {
     "name": "stderr",
     "output_type": "stream",
     "text": [
      "100%|██████████| 1/1 [00:01<00:00,  1.35s/it]\n"
     ]
    },
    {
     "data": {
      "text/plain": [
       "{'faithfulness': 0.1667, 'answer_relevancy': 0.0000, 'context_recall': 0.0000, 'context_precision': 0.0000, 'harmfulness': 0.0000}"
      ]
     },
     "execution_count": 21,
     "metadata": {},
     "output_type": "execute_result"
    }
   ],
   "source": [
    "result = evaluate(\n",
    "    dataset,\n",
    "    metrics=metrics,\n",
    ")\n",
    "\n",
    "result"
   ]
  },
  {
   "cell_type": "code",
   "execution_count": 22,
   "metadata": {},
   "outputs": [
    {
     "data": {
      "text/html": [
       "<div>\n",
       "<style scoped>\n",
       "    .dataframe tbody tr th:only-of-type {\n",
       "        vertical-align: middle;\n",
       "    }\n",
       "\n",
       "    .dataframe tbody tr th {\n",
       "        vertical-align: top;\n",
       "    }\n",
       "\n",
       "    .dataframe thead th {\n",
       "        text-align: right;\n",
       "    }\n",
       "</style>\n",
       "<table border=\"1\" class=\"dataframe\">\n",
       "  <thead>\n",
       "    <tr style=\"text-align: right;\">\n",
       "      <th></th>\n",
       "      <th>question</th>\n",
       "      <th>answer</th>\n",
       "      <th>contexts</th>\n",
       "      <th>ground_truths</th>\n",
       "      <th>faithfulness</th>\n",
       "      <th>answer_relevancy</th>\n",
       "      <th>context_recall</th>\n",
       "      <th>context_precision</th>\n",
       "      <th>harmfulness</th>\n",
       "    </tr>\n",
       "  </thead>\n",
       "  <tbody>\n",
       "    <tr>\n",
       "      <th>0</th>\n",
       "      <td>How many Casual leaves can be taken in a year ...</td>\n",
       "      <td>I'm sorry, I cannot find any information about...</td>\n",
       "      <td>[/partner, and \\nother c lose relatives so the...</td>\n",
       "      <td>[10]</td>\n",
       "      <td>0.0</td>\n",
       "      <td>0.0</td>\n",
       "      <td>0.0</td>\n",
       "      <td>0.0</td>\n",
       "      <td>0</td>\n",
       "    </tr>\n",
       "    <tr>\n",
       "      <th>1</th>\n",
       "      <td>What is the Performance Appraisal Policy at Ha...</td>\n",
       "      <td>The Performance Appraisal Policy at Hanu is no...</td>\n",
       "      <td>[1 \\n Information Security &amp; Privacy Training ...</td>\n",
       "      <td>[Hanu Software Solutions India Pvt. Ltd. has a...</td>\n",
       "      <td>0.0</td>\n",
       "      <td>0.0</td>\n",
       "      <td>0.0</td>\n",
       "      <td>0.0</td>\n",
       "      <td>0</td>\n",
       "    </tr>\n",
       "    <tr>\n",
       "      <th>2</th>\n",
       "      <td>What is the total reimbursement amount for bot...</td>\n",
       "      <td>I'm sorry, I cannot find any information about...</td>\n",
       "      <td>[1 \\n Information Security &amp; Privacy Training ...</td>\n",
       "      <td>[800 rupees.]</td>\n",
       "      <td>0.5</td>\n",
       "      <td>0.0</td>\n",
       "      <td>0.0</td>\n",
       "      <td>0.0</td>\n",
       "      <td>0</td>\n",
       "    </tr>\n",
       "  </tbody>\n",
       "</table>\n",
       "</div>"
      ],
      "text/plain": [
       "                                            question  \\\n",
       "0  How many Casual leaves can be taken in a year ...   \n",
       "1  What is the Performance Appraisal Policy at Ha...   \n",
       "2  What is the total reimbursement amount for bot...   \n",
       "\n",
       "                                              answer  \\\n",
       "0  I'm sorry, I cannot find any information about...   \n",
       "1  The Performance Appraisal Policy at Hanu is no...   \n",
       "2  I'm sorry, I cannot find any information about...   \n",
       "\n",
       "                                            contexts  \\\n",
       "0  [/partner, and \\nother c lose relatives so the...   \n",
       "1  [1 \\n Information Security & Privacy Training ...   \n",
       "2  [1 \\n Information Security & Privacy Training ...   \n",
       "\n",
       "                                       ground_truths  faithfulness  \\\n",
       "0                                               [10]           0.0   \n",
       "1  [Hanu Software Solutions India Pvt. Ltd. has a...           0.0   \n",
       "2                                      [800 rupees.]           0.5   \n",
       "\n",
       "   answer_relevancy  context_recall  context_precision  harmfulness  \n",
       "0               0.0             0.0                0.0            0  \n",
       "1               0.0             0.0                0.0            0  \n",
       "2               0.0             0.0                0.0            0  "
      ]
     },
     "execution_count": 22,
     "metadata": {},
     "output_type": "execute_result"
    }
   ],
   "source": [
    "df = result.to_pandas()\n",
    "df.head()"
   ]
  },
  {
   "cell_type": "code",
   "execution_count": null,
   "metadata": {},
   "outputs": [],
   "source": []
  }
 ],
 "metadata": {
  "kernelspec": {
   "display_name": "venv",
   "language": "python",
   "name": "python3"
  },
  "language_info": {
   "codemirror_mode": {
    "name": "ipython",
    "version": 3
   },
   "file_extension": ".py",
   "mimetype": "text/x-python",
   "name": "python",
   "nbconvert_exporter": "python",
   "pygments_lexer": "ipython3",
   "version": "3.11.4"
  }
 },
 "nbformat": 4,
 "nbformat_minor": 2
}
